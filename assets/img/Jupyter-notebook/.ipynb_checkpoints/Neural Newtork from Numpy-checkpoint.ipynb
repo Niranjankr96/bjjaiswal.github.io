{
 "cells": [
  {
   "cell_type": "markdown",
   "metadata": {},
   "source": [
    "Steps of implementing neural network from numpy\n",
    "1. Arrange your dataset and parameters W1,W1\n",
    "2. Implement cost function\n",
    "3. Implement forward propagation\n",
    "4. implemet back propagation\n",
    "5. plot cost vs time and check whether it is monotonosly decreasing or not.\n",
    "6. improve algorithm"
   ]
  },
  {
   "cell_type": "code",
   "execution_count": 16,
   "metadata": {},
   "outputs": [],
   "source": [
    "import numpy as np\n",
    "import matplotlib.pyplot as plt\n",
    "%matplotlib inline "
   ]
  },
  {
   "cell_type": "markdown",
   "metadata": {},
   "source": [
    "![Neural-Network](assets/nn-numpy/2-layer-nn.png)"
   ]
  },
  {
   "cell_type": "markdown",
   "metadata": {},
   "source": [
    "Let us assume we have 1000 column and 64 rows. And also we can say, each training example has 1000 features, which will act as input layer to neural network. \n",
    "1. Batch size = 64 i.e 64 example\n",
    "2. Input layer = 1000, i.e each training example has 1000 feature\n",
    "3. hidden layer = 100, \n",
    "4. output layer = 10, i.e \n"
   ]
  },
  {
   "cell_type": "code",
   "execution_count": 11,
   "metadata": {},
   "outputs": [],
   "source": [
    "batch_size = 64  # batch size\n",
    "input_dim = 1000  # input dimension\n",
    "hidden_dim = 100  # hidden dimension\n",
    "output_dim = 10   # output dimension"
   ]
  },
  {
   "cell_type": "code",
   "execution_count": 15,
   "metadata": {},
   "outputs": [
    {
     "name": "stdout",
     "output_type": "stream",
     "text": [
      "training sample:\n",
      "X.shape: (64, 1000)\n",
      "Y shape: (64, 10)\n"
     ]
    }
   ],
   "source": [
    "X = np.random.randn(batch_size, input_dim)\n",
    "Y = np.random.randint(10, size=(batch_size, output_dim))\n",
    "print('training sample:')\n",
    "print('X.shape:',X.shape)\n",
    "print('Y shape:',Y.shape)"
   ]
  },
  {
   "cell_type": "markdown",
   "metadata": {},
   "source": [
    "Implementing Forward propagation"
   ]
  },
  {
   "cell_type": "code",
   "execution_count": null,
   "metadata": {},
   "outputs": [],
   "source": [
    "def forward(X,Y,cost):\n",
    "    "
   ]
  }
 ],
 "metadata": {
  "kernelspec": {
   "display_name": "Python 3",
   "language": "python",
   "name": "python3"
  },
  "language_info": {
   "codemirror_mode": {
    "name": "ipython",
    "version": 3
   },
   "file_extension": ".py",
   "mimetype": "text/x-python",
   "name": "python",
   "nbconvert_exporter": "python",
   "pygments_lexer": "ipython3",
   "version": "3.6.4"
  }
 },
 "nbformat": 4,
 "nbformat_minor": 2
}
