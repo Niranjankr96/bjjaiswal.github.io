{
 "cells": [
  {
   "cell_type": "markdown",
   "metadata": {},
   "source": [
    "Steps of implementing neural network from numpy\n",
    "1. Arrange your dataset and parameters W1,W1\n",
    "2. Implement cost function\n",
    "3. Implement forward propagation\n",
    "4. implemet back propagation\n",
    "5. plot cost vs time and check whether it is monotonosly decreasing or not.\n",
    "6. improve algorithm"
   ]
  },
  {
   "cell_type": "code",
   "execution_count": 1,
   "metadata": {},
   "outputs": [],
   "source": [
    "import numpy as np\n",
    "import matplotlib.pyplot as plt\n",
    "%matplotlib inline "
   ]
  },
  {
   "cell_type": "markdown",
   "metadata": {},
   "source": [
    "![Neural-Network](assets/nn-numpy/2-layer-nn.png)"
   ]
  },
  {
   "cell_type": "markdown",
   "metadata": {},
   "source": [
    "Let us assume we have 1000 column and 64 rows. And also we can say, each training example has 1000 features, which will act as input layer to neural network. \n",
    "1. Batch size = 64 i.e 64 example\n",
    "2. Input layer = 1000, i.e each training example has 1000 feature\n",
    "3. hidden layer = 100, \n",
    "4. output layer = 10, i.e \n"
   ]
  },
  {
   "cell_type": "code",
   "execution_count": 25,
   "metadata": {},
   "outputs": [],
   "source": [
    "batch_size = 1024  # batch size\n",
    "input_dim = 1000  # input dimension\n",
    "hidden_dim = 100  # hidden dimension\n",
    "output_dim = 10   # output dimension"
   ]
  },
  {
   "cell_type": "code",
   "execution_count": 26,
   "metadata": {},
   "outputs": [
    {
     "name": "stdout",
     "output_type": "stream",
     "text": [
      "training sample:\n",
      "X.shape: (1024, 1000)\n",
      "Y shape: (1024, 10)\n"
     ]
    }
   ],
   "source": [
    "X = np.random.randn(batch_size, input_dim)\n",
    "Y = np.random.randint(10, size=(batch_size, output_dim))\n",
    "print('training sample:')\n",
    "print('X.shape:',X.shape)\n",
    "print('Y shape:',Y.shape)"
   ]
  },
  {
   "cell_type": "code",
   "execution_count": 27,
   "metadata": {},
   "outputs": [
    {
     "name": "stdout",
     "output_type": "stream",
     "text": [
      "W1.shape: (1000, 100)\n",
      "W2 shape: (100, 10)\n"
     ]
    }
   ],
   "source": [
    "# Randomly Initialize Weights\n",
    "W1 = np.random.randn(input_dim, hidden_dim)\n",
    "W2 = np.random.randn(hidden_dim, output_dim)\n",
    "print('W1.shape:',W1.shape)\n",
    "print('W2 shape:',W2.shape)"
   ]
  },
  {
   "cell_type": "markdown",
   "metadata": {},
   "source": [
    "### 2. let us implement cost function "
   ]
  },
  {
   "cell_type": "code",
   "execution_count": 28,
   "metadata": {},
   "outputs": [],
   "source": [
    "def cost(X,W1,cost='cost'):\n",
    "    h = X.dot(W1)\n",
    "    if (cost == 'linear'):\n",
    "        return h\n",
    "    if cost == 'relu':\n",
    "        return np.maximum(h, 0)    "
   ]
  },
  {
   "cell_type": "markdown",
   "metadata": {},
   "source": [
    "Implementing Forward propagation"
   ]
  },
  {
   "cell_type": "code",
   "execution_count": 29,
   "metadata": {},
   "outputs": [],
   "source": [
    "def loss(y_pred,y):\n",
    "    # Compute loss\n",
    "    loss = np.square(y_pred-y).sum()\n",
    "    return loss \n",
    "    "
   ]
  },
  {
   "cell_type": "code",
   "execution_count": 30,
   "metadata": {},
   "outputs": [],
   "source": [
    "def forward(X,Y,cost):\n",
    "    # Forward pass: compute predicted y\n",
    "    h = cost(X,W1,'linear') \n",
    "    h_relu = cost(X,W1,'relu')\n",
    "    y_pred = h_relu.dot(W2)\n",
    "    return h,h_relu,y_pred"
   ]
  },
  {
   "cell_type": "code",
   "execution_count": 31,
   "metadata": {},
   "outputs": [],
   "source": [
    "def backward(x,y_pred,y, h, h_relu,W1,W2):\n",
    "    grad_y_pred = 2.0 * (y_pred-y)\n",
    "    grad_W2 = h_relu.T.dot(grad_y_pred)\n",
    "    grad_h_relu = grad_y_pred.dot(W2.T)\n",
    "    grad_h = grad_h_relu.copy()\n",
    "    grad_h[h<0] = 0\n",
    "    grad_W1 = x.T.dot(grad_h)\n",
    "    return grad_W2, grad_W1"
   ]
  },
  {
   "cell_type": "code",
   "execution_count": 32,
   "metadata": {},
   "outputs": [],
   "source": [
    "tt = []\n",
    "losses = []\n",
    "def nn(X,Y,W1,W2):\n",
    "    lr = 1e-8\n",
    "    for iterr in range(1500):\n",
    "        h,h_relu,y_pred = forward(X,Y,cost)\n",
    "        \n",
    "        # computing loss\n",
    "        los = loss(y_pred,Y)\n",
    "        tt.append(iterr)\n",
    "        losses.append(los)\n",
    "        \n",
    "        # back propagation \n",
    "        grad_W2,grad_W1 = backward(X,y_pred,Y, h, h_relu,W1,W2)\n",
    "        # update Weights\n",
    "        W1 -= lr * grad_W1\n",
    "        W2 -= lr * grad_W2"
   ]
  },
  {
   "cell_type": "code",
   "execution_count": 33,
   "metadata": {},
   "outputs": [],
   "source": [
    "nn(X,Y,W1,W2)"
   ]
  },
  {
   "cell_type": "code",
   "execution_count": 34,
   "metadata": {},
   "outputs": [
    {
     "data": {
      "text/plain": [
       "[<matplotlib.lines.Line2D at 0x7fadf822f7f0>]"
      ]
     },
     "execution_count": 34,
     "metadata": {},
     "output_type": "execute_result"
    },
    {
     "data": {
      "image/png": "[encoded data removed]",
      "text/plain": [
       "<matplotlib.figure.Figure at 0x7fadf825f7b8>"
      ]
     },
     "metadata": {},
     "output_type": "display_data"
    }
   ],
   "source": [
    "plt.plot(tt, losses)"
   ]
  },
  {
   "cell_type": "code",
   "execution_count": null,
   "metadata": {},
   "outputs": [],
   "source": []
  },
  {
   "cell_type": "code",
   "execution_count": null,
   "metadata": {
    "scrolled": true
   },
   "outputs": [],
   "source": []
  },
  {
   "cell_type": "code",
   "execution_count": null,
   "metadata": {},
   "outputs": [],
   "source": []
  }
 ],
 "metadata": {
  "kernelspec": {
   "display_name": "Python 3",
   "language": "python",
   "name": "python3"
  },
  "language_info": {
   "codemirror_mode": {
    "name": "ipython",
    "version": 3
   },
   "file_extension": ".py",
   "mimetype": "text/x-python",
   "name": "python",
   "nbconvert_exporter": "python",
   "pygments_lexer": "ipython3",
   "version": "3.6.4"
  }
 },
 "nbformat": 4,
 "nbformat_minor": 2
}
